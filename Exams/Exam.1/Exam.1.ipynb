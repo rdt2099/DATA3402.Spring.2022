{
 "cells": [
  {
   "cell_type": "markdown",
   "metadata": {},
   "source": [
    "# Exam 1\n",
    "\n",
    "Start from the backjack classes developed in class. "
   ]
  },
  {
   "cell_type": "code",
   "execution_count": 20,
   "metadata": {},
   "outputs": [],
   "source": [
    "from blackjack import *"
   ]
  },
  {
   "cell_type": "code",
   "execution_count": 21,
   "metadata": {},
   "outputs": [],
   "source": [
    "def play_a_round(n_hands=50):\n",
    "    my_game=Game()\n",
    "    my_game.level=Game.ERROR\n",
    "\n",
    "    my_game.add_player(Strategy_1_Player(\"Dummy player\",100))\n",
    "    my_game.add_player(DealerLikePlayer(\"Stays on 13\",100,13))\n",
    "    my_game.add_player(DealerLikePlayer(\"Stays on 14\",100,14))\n",
    "    my_game.add_player(DealerLikePlayer(\"Stays on 15\",100,15))\n",
    "    my_game.add_player(DealerLikePlayer(\"Stays on 16\",100,16))\n",
    "    my_game.add_player(DealerLikePlayer(\"Stays on 17\",100,17))\n",
    "    my_game.add_player(DealerLikePlayer(\"Stays on 18\",100,18))\n",
    "    my_game.add_player(DealerLikePlayer(\"Stays on 19\",100,19))\n",
    "    my_game.add_player(DealerLikePlayer(\"Stays on 20\",100,20))\n",
    "    \n",
    "    my_game.play_game(n_hands)\n",
    "    \n",
    "    return [player.chips() for player in my_game.all_players()]\n",
    "    "
   ]
  },
  {
   "cell_type": "code",
   "execution_count": 22,
   "metadata": {},
   "outputs": [],
   "source": [
    "def play_many_rounds(n_rounds=100,n_hands=50):\n",
    "    results = list()\n",
    "    \n",
    "    for i_round in range(n_rounds):\n",
    "        results.append(play_a_round(n_hands))\n",
    "        \n",
    "    return results"
   ]
  },
  {
   "cell_type": "code",
   "execution_count": 23,
   "metadata": {},
   "outputs": [],
   "source": [
    "results= play_many_rounds(1000)"
   ]
  },
  {
   "cell_type": "code",
   "execution_count": 24,
   "metadata": {},
   "outputs": [],
   "source": [
    "import numpy as np\n",
    "import matplotlib.pyplot as plt\n",
    "%matplotlib inline"
   ]
  },
  {
   "cell_type": "code",
   "execution_count": 25,
   "metadata": {},
   "outputs": [],
   "source": [
    "res = np.array(results)\n",
    "res = res [:,:-1]"
   ]
  },
  {
   "cell_type": "code",
   "execution_count": 26,
   "metadata": {},
   "outputs": [
    {
     "data": {
      "image/png": "[encoded data removed]",
      "text/plain": [
       "<Figure size 432x288 with 1 Axes>"
      ]
     },
     "metadata": {
      "needs_background": "light"
     },
     "output_type": "display_data"
    }
   ],
   "source": [
    "for i in range(res.shape[1]):\n",
    "    plt.hist(res[:,i],label=\"Player \"+str(i),alpha=0.5)\n",
    "    \n",
    "plt.legend()\n",
    "plt.show()"
   ]
  },
  {
   "cell_type": "code",
   "execution_count": 27,
   "metadata": {},
   "outputs": [],
   "source": [
    "m=np.mean(res,axis=0)"
   ]
  },
  {
   "cell_type": "code",
   "execution_count": 28,
   "metadata": {},
   "outputs": [],
   "source": [
    "s=np.std(res,axis=0)"
   ]
  },
  {
   "cell_type": "code",
   "execution_count": 29,
   "metadata": {},
   "outputs": [
    {
     "data": {
      "text/plain": [
       "<ErrorbarContainer object of 3 artists>"
      ]
     },
     "execution_count": 29,
     "metadata": {},
     "output_type": "execute_result"
    },
    {
     "data": {
      "image/png": "[encoded data removed]",
      "text/plain": [
       "<Figure size 432x288 with 1 Axes>"
      ]
     },
     "metadata": {
      "needs_background": "light"
     },
     "output_type": "display_data"
    }
   ],
   "source": [
    "plt.errorbar(range(len(m)),m,s)"
   ]
  },
  {
   "cell_type": "markdown",
   "metadata": {},
   "source": [
    "## Questions"
   ]
  },
  {
   "cell_type": "markdown",
   "metadata": {},
   "source": [
    "1. Implement the following boolean functions in the `Card` class:\n",
    "    * `card_1.same_suit_as(card_2)`\n",
    "    * `card_1.same_value_as(card_2)`\n",
    "    * `card_1.same_numerical_value_as(card_2)`\n",
    "    * `card_1 == card_2`"
   ]
  },
  {
   "cell_type": "markdown",
   "metadata": {},
   "source": [
    "2. Create a base class `CardFilterFunction` with a virtual `__call__(self,card)` method. Implement the following derived classes, where the instance have the following behavior:\n",
    "    * `f = CheckSuit(suit)`: `f(card)` returns boolean testing if `card` same suit as `suit`.\n",
    "    * `f = CheckValue(value)`: `f(card)` returns boolean testing if `card` same value as `value`.\n",
    "    * `f = CheckNumericalValue(value)`: `f(card)` returns boolean testing if `card` same numerical value as `value`."
   ]
  },
  {
   "cell_type": "markdown",
   "metadata": {},
   "source": [
    "3. Implement the following functions in `Deck` class:\n",
    "    * `deck_1.n_cards()`: returns number of cards in the deck.\n",
    "    * `deck_2 = deck_1.copy()`: returns a new deck that is a copy of `deck_1`.\n",
    "    * `deck_2 = deck_1.filter(condition)`: returns new `deck_2` containing subset of cards in `deck_1` that satisfy the condition, where\n",
    "        * if `condition` is a `Card`, the cards are equal (`==`).\n",
    "        * if `condition` is a `CardFilterFunction`, the card satisfies the filter. \n",
    "        * if `condition` is a `Deck` or a list of `Cards`, the card is in the other deck or list. \n",
    "    * `deck_1.remove(condition)`: that removes cards satisfing the condition (same logic as above) from `deck_1`.\n",
    "    * `deck_2 = deck_1.sub_deck(condition, remove=False)`: creates new `deck_2` from `deck_1` satisfying condition, optionally removing cards from `deck_1`.\n",
    "\n"
   ]
  },
  {
   "cell_type": "markdown",
   "metadata": {},
   "source": [
    "4. In the `Deck` class, implement  a function `prob(condition)` such that `deck_1.prob(condition)` returns the probability that the next drawn card from the deck satisfies the condition, where\n",
    "    * if `condition` is a `Card`, that the next card is exactly the same card.\n",
    "    * if `condition` is a `CardFilterFunction`, that the card satisfies the filter. \n",
    "    * if `condition` is a `Deck` or a list of `Cards`, that the next card is in the other deck or list. \n",
    "\n",
    "\n"
   ]
  },
  {
   "cell_type": "markdown",
   "metadata": {},
   "source": [
    "5. Using the classes above, calculate the probabilty of being dealt the following 5 card poker hands:\n",
    "    * containing a pair (two cards of the same value)\n",
    "    * containing two pair\n",
    "    * containing three of a kind (three cards of the same value)\n",
    "    * containing four of a kind (four cards of the same value)\n",
    "    * containing a straight (5 cards in numerical order)\n",
    "    * containing a flush (5 cards of same suit)\n",
    "    * containing a straight-flush (both above conditions)\n",
    "    "
   ]
  },
  {
   "cell_type": "markdown",
   "metadata": {},
   "source": [
    "6. Implement following blackjack players:\n",
    "\n",
    "    * Player 1:  Strategy from lab 4:\n",
    "        * Assign each card a value: \n",
    "            * Cards 2 to 6 are +1 \n",
    "            * Cards 7 to 9 are 0 \n",
    "            * Cards 10 through Ace are -1\n",
    "        * Compute the sum of the values for all cards seen so far.\n",
    "        * Hit if sum is very negative, stay if sum is very positive. Select a threshold for hit/stay, e.g. 0 or -2.  \n",
    "    * Player 2: Your strategy from question 10 of lab 4.\n",
    "    * Player 3: Implement a new blackjack player that uses the probability of busting, based on all the seen cards, to decide to hit or stay, using methods developed in questions 1-4 above."
   ]
  },
  {
   "cell_type": "markdown",
   "metadata": {},
   "source": [
    "8. Perform a study comparing the performance of the 3 above players for a default Dealer (hits on 16). "
   ]
  },
  {
   "cell_type": "markdown",
   "metadata": {},
   "source": [
    "9. Repeat the study for different thresholds of when the Dealer hits. Can you change the outcomes in favor of the Dealer? How about if you change the number of 52-card sets in the Deck?\n"
   ]
  },
  {
   "cell_type": "code",
   "execution_count": null,
   "metadata": {},
   "outputs": [],
   "source": []
  }
 ],
 "metadata": {
  "kernelspec": {
   "display_name": "Python 3",
   "language": "python",
   "name": "python3"
  },
  "language_info": {
   "codemirror_mode": {
    "name": "ipython",
    "version": 3
   },
   "file_extension": ".py",
   "mimetype": "text/x-python",
   "name": "python",
   "nbconvert_exporter": "python",
   "pygments_lexer": "ipython3",
   "version": "3.8.0"
  }
 },
 "nbformat": 4,
 "nbformat_minor": 2
}
